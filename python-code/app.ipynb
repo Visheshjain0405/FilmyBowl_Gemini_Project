{
 "cells": [
  {
   "cell_type": "code",
   "execution_count": null,
   "id": "f11d022a",
   "metadata": {
    "vscode": {
     "languageId": "plaintext"
    }
   },
   "outputs": [],
   "source": [
    "# Step 1: Install dependencies\n",
    "!pip install transformers torch sentencepiece -q\n"
   ]
  },
  {
   "cell_type": "code",
   "execution_count": null,
   "id": "cf954d23",
   "metadata": {
    "vscode": {
     "languageId": "plaintext"
    }
   },
   "outputs": [],
   "source": [
    "# Step 2: Import the model and tokenizer\n",
    "from transformers import AutoTokenizer, AutoModelForSeq2SeqLM\n",
    "\n",
    "model_name = \"Vamsi/T5_Paraphrase_Paws\"\n",
    "\n",
    "tokenizer = AutoTokenizer.from_pretrained(model_name)\n",
    "model = AutoModelForSeq2SeqLM.from_pretrained(model_name)\n"
   ]
  },
  {
   "cell_type": "code",
   "execution_count": null,
   "id": "571845e9",
   "metadata": {
    "vscode": {
     "languageId": "plaintext"
    }
   },
   "outputs": [],
   "source": [
    "# Step 3: Define the humanizer function\n",
    "def humanize_text(text, max_chunk_length=450):\n",
    "    \"\"\"\n",
    "    Splits long text into smaller chunks and paraphrases each.\n",
    "    \"\"\"\n",
    "    # Split into roughly paragraph-sized chunks\n",
    "    chunks = text.split(\"\\n\\n\")\n",
    "    result = []\n",
    "\n",
    "    for chunk in chunks:\n",
    "        chunk = chunk.strip()\n",
    "        if not chunk:\n",
    "            continue\n",
    "\n",
    "        # Prepare model input\n",
    "        input_text = f\"paraphrase: {chunk} </s>\"\n",
    "        encoding = tokenizer(\n",
    "            input_text,\n",
    "            padding=True,\n",
    "            truncation=True,\n",
    "            return_tensors=\"pt\",\n",
    "            max_length=max_chunk_length\n",
    "        )\n",
    "\n",
    "        # Generate paraphrase\n",
    "        outputs = model.generate(\n",
    "            input_ids=encoding['input_ids'],\n",
    "            attention_mask=encoding['attention_mask'],\n",
    "            max_length=512,\n",
    "            num_beams=5,\n",
    "            temperature=0.9,\n",
    "            top_p=0.95,\n",
    "            early_stopping=True\n",
    "        )\n",
    "\n",
    "        paraphrased = tokenizer.decode(outputs[0], skip_special_tokens=True)\n",
    "        result.append(paraphrased)\n",
    "\n",
    "    return \"\\n\\n\".join(result)\n"
   ]
  },
  {
   "cell_type": "code",
   "execution_count": null,
   "id": "3475bc4d",
   "metadata": {
    "vscode": {
     "languageId": "plaintext"
    }
   },
   "outputs": [],
   "source": [
    "# Step 4: Input your AI-generated article\n",
    "ai_text = \"\"\"Prabhas, born Venkata Satyanarayana Prabhas Raju Uppalapati, has become one of the most bankable and respected actors in Indian cinema. Known simply as “Darling” to his fans, he began his career in Telugu films but rose to global fame through S.S. Rajamouli’s Baahubali franchise. His calm personality, dedication to his craft, and ability to adapt to varied roles have made him a national sensation.\n",
    "\n",
    "Before the Baahubali era, Prabhas had already built a strong career in Telugu cinema with hits like Varsham, Chatrapathi, Darling, Mr. Perfect, and Mirchi. However, Baahubali: The Beginning (2015) and Baahubali 2: The Conclusion (2017) changed everything — not just for him, but for Indian cinema as a whole.\n",
    "\n",
    "With Baahubali, Prabhas became a household name across India, breaking the language barrier and becoming the first truly “pan-India” superstar from Telugu cinema.\n",
    "\n",
    "The Journey So Far: Iconic Films and Milestones\n",
    "Early Success\n",
    "\n",
    "Prabhas made his debut in 2002 with Eeswar, a modest start that showed promise. His first major breakthrough came with Varsham (2004), a romantic action film that was a blockbuster hit and established him as a rising star in Tollywood.\n",
    "\n",
    "He continued his success with Chatrapathi (2005), directed by S.S. Rajamouli, which introduced him as a mass-action hero and gained him immense popularity among youth and family audiences alike.\n",
    "\n",
    "Romantic Charm and Versatility\n",
    "\n",
    "In the 2010s, Prabhas showcased his versatility through films like Darling (2010) and Mr. Perfect (2011). These romantic dramas not only expanded his fanbase but also demonstrated his ability to balance action and emotion on screen.\n",
    "\n",
    "Mirchi (2013) further cemented his stardom, blending emotion, family drama, and powerful action — a mix that became Prabhas’s signature style.\n",
    "\n",
    "The Baahubali Phenomenon\n",
    "\n",
    "Then came Baahubali. The two-part magnum opus directed by S.S. Rajamouli was more than just a film; it was an event that redefined Indian cinema. Prabhas spent nearly five years dedicated solely to the project, a move that showed his commitment and belief in quality over quantity.\n",
    "\n",
    "Baahubali: The Beginning (2015) and Baahubali 2: The Conclusion (2017) shattered box-office records and catapulted Prabhas to international fame. The films grossed over ₹2,000 crore combined worldwide and made him one of the most sought-after actors in the country.\n",
    "\n",
    "Post-Baahubali Era: Experimentation and Big Budgets\n",
    "\n",
    "After Baahubali, expectations from Prabhas skyrocketed. He chose to explore larger-than-life projects that matched his new pan-India image.\n",
    "\n",
    "Saaho (2019): A high-octane action thriller released in multiple languages. Though it received mixed reviews, it performed well commercially and further expanded his audience across India.\n",
    "\n",
    "Radhe Shyam (2022): A romantic drama set in Europe, showcasing Prabhas in a softer, stylish avatar.\n",
    "\n",
    "Adipurush (2023): A mythological epic based on the Ramayana, where he portrayed Lord Rama. Despite controversies and mixed reception, the film highlighted his interest in mythological and cultural themes.\n",
    "\n",
    "Salaar: Part 1 – Ceasefire (2023): Directed by Prashanth Neel of KGF fame, this action drama was a massive success and portrayed Prabhas in a rugged, intense role. It marked his comeback to strong action territory.\n",
    "\n",
    "Kalki 2898 AD (2024): A futuristic science fiction epic blending mythology with dystopia, directed by Nag Ashwin. The film received international acclaim for its visuals and storytelling, solidifying Prabhas’s global appeal.\n",
    "\n",
    "Upcoming Movies: The Next Wave of Prabhas Mania\n",
    "\n",
    "Prabhas’s upcoming projects promise to be even more diverse and ambitious. Here’s what fans can look forward to:\n",
    "\n",
    "1. The Raja Saab (2026)\n",
    "A romantic horror-comedy directed by Maruthi, The Raja Saab is set for release on January 9, 2026. The film stars Prabhas alongside Malavika Mohanan, Nidhhi Agerwal, and Sanjay Dutt. It’s expected to showcase his lighter, fun side — a refreshing break from his action-heavy roles.\n",
    "\n",
    "2. Spirit\n",
    "Directed by Sandeep Reddy Vanga (Arjun Reddy, Animal), Spirit will feature Prabhas in a powerful role, reportedly as a tough cop. Given Vanga’s intense storytelling style, fans can expect an emotionally charged, high-octane drama.\n",
    "\n",
    "3. Salaar: Part 2 – Shouryanga Parvam\n",
    "The sequel to Salaar: Ceasefire will continue the gritty, violent saga of Deva. It’s expected to explore deeper character arcs and deliver even grander action sequences.\n",
    "\n",
    "4. Kalki 2898 AD: Part 2\n",
    "Following the massive success of the first installment, Kalki 2898 AD: Part 2 is already in development. It will continue the mythological sci-fi saga where Prabhas’s character becomes central to the fate of humanity.\n",
    "\n",
    "5. Fauji\n",
    "Directed by Hanu Raghavapudi, Fauji is rumored to be a historical action-drama with patriotic undertones. It’s one of the most exciting new projects in Prabhas’s lineup.\n",
    "\n",
    "6. Kannappa (Special Appearance)\n",
    "Prabhas will also make a cameo in Kannappa, a mythological film starring Vishnu Manchu. His brief role has already generated tremendous buzz among fans.\n",
    "\n",
    "A Star with Vision and Versatility\n",
    "\n",
    "Prabhas’s journey reflects his courage to experiment and his desire to take Indian cinema to global heights. From the emotional storytelling of Darling and Mirchi to the grand scale of Baahubali and Kalki 2898 AD, he has never shied away from challenging roles.\n",
    "\n",
    "Today, Prabhas stands as a symbol of ambition, consistency, and dedication. Whether it’s mythological fantasy, futuristic sci-fi, or emotional drama, his films promise not just entertainment but an experience worth waiting for.\n",
    "\n",
    "As fans eagerly await The Raja Saab, Spirit, and Salaar 2, one thing is certain — Prabhas is not just an actor; he’s a phenomenon redefining the scale of Indian cinema.\n",
    "\"\"\"\n"
   ]
  },
  {
   "cell_type": "code",
   "execution_count": null,
   "id": "1cc18d5b",
   "metadata": {
    "vscode": {
     "languageId": "plaintext"
    }
   },
   "outputs": [],
   "source": [
    "# Step 5: Run the humanizer\n",
    "humanized_output = humanize_text(ai_text)\n",
    "print(humanized_output)\n"
   ]
  },
  {
   "cell_type": "code",
   "execution_count": null,
   "id": "d8bb4b0a",
   "metadata": {
    "vscode": {
     "languageId": "plaintext"
    }
   },
   "outputs": [],
   "source": [
    "with open(\"prabhas_humanized.txt\", \"w\", encoding=\"utf-8\") as f:\n",
    "    f.write(humanized_output)\n",
    "\n",
    "print(\"✅ Humanized text saved to prabhas_humanized.txt\")\n"
   ]
  }
 ],
 "metadata": {
  "language_info": {
   "name": "python"
  }
 },
 "nbformat": 4,
 "nbformat_minor": 5
}
